{
 "cells": [
  {
   "cell_type": "code",
   "execution_count": null,
   "id": "bb30f7be",
   "metadata": {},
   "outputs": [],
   "source": [
    "#Partitioning data\n",
    "\n",
    "#Create a table for Center(C) position efficiency of each team\n",
    "CREATE OR REPLACE TABLE `hardy-answer-335705.nba_project.team-effC` AS ( \n",
    "SELECT Tm, ROUND(EFFc,2) AS EfficiencyC\n",
    "FROM `hardy-answer-335705.nba_project.players`\n",
    "WHERE Pos = 'C');\n",
    "\n",
    "#Create a table for Power Forward(PF) position efficiency of each team\n",
    "CREATE OR REPLACE TABLE `hardy-answer-335705.nba_project.team-effPF` AS (\n",
    "SELECT Tm, ROUND(EFFpf,2) AS Efficiency\n",
    "FROM `hardy-answer-335705.nba_project.players`\n",
    "WHERE Pos = 'PF');\n",
    "\n",
    "#Create a table for Point Guard(PG) position efficiency of each team\n",
    "CREATE OR REPLACE TABLE `hardy-answer-335705.nba_project.team-effPG` AS (\n",
    "SELECT Tm, ROUND(EFFpg,2) AS Efficiency\n",
    "FROM `hardy-answer-335705.nba_project.players`\n",
    "WHERE Pos = 'PG');\n",
    "\n",
    "#Create a table for Small Forward(SF) position efficiency of each team\n",
    "CREATE OR REPLACE TABLE `hardy-answer-335705.nba_project.team-effSF` AS (\n",
    "SELECT Tm, ROUND(EFFsf,2) AS Efficiency\n",
    "FROM `hardy-answer-335705.nba_project.players`\n",
    "WHERE Pos = 'SF');\n",
    "\n",
    "#Create a table for Shooting Guard(SG) position efficiency of each team\n",
    "CREATE OR REPLACE TABLE `hardy-answer-335705.nba_project.team-effSG` AS (\n",
    "SELECT Tm, ROUND(EFFsg,2) AS Efficiency\n",
    "FROM `hardy-answer-335705.nba_project.players`\n",
    "WHERE Pos = 'SG');\n"
   ]
  }
 ],
 "metadata": {
  "kernelspec": {
   "display_name": "Python 3 (ipykernel)",
   "language": "python",
   "name": "python3"
  },
  "language_info": {
   "codemirror_mode": {
    "name": "ipython",
    "version": 3
   },
   "file_extension": ".py",
   "mimetype": "text/x-python",
   "name": "python",
   "nbconvert_exporter": "python",
   "pygments_lexer": "ipython3",
   "version": "3.9.12"
  }
 },
 "nbformat": 4,
 "nbformat_minor": 5
}
