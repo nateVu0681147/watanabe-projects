{
 "cells": [
  {
   "cell_type": "code",
   "execution_count": 2,
   "id": "372eac0d",
   "metadata": {},
   "outputs": [],
   "source": [
    "import pandas as pd"
   ]
  },
  {
   "cell_type": "code",
   "execution_count": 3,
   "id": "0860b779",
   "metadata": {},
   "outputs": [],
   "source": [
    "#Importing data\n",
    "\n",
    "circuits = pd.read_csv('F1-data/circuits.csv')\n",
    "constructor_results = pd.read_csv('F1-data/constructor_results.csv')\n",
    "constructor_standings = pd.read_csv('F1-data/constructor_standings.csv')\n",
    "constructor = pd.read_csv('F1-data/constructors.csv')\n",
    "driver_standings = pd.read_csv('F1-data/driver_standings.csv')\n",
    "drivers = pd.read_csv('F1-data/drivers.csv')\n",
    "lap_times = pd.read_csv('F1-data/lap_times.csv')\n",
    "pit_stops = pd.read_csv('F1-data/pit_stops.csv')\n",
    "qualifying = pd.read_csv('F1-data/qualifying.csv')\n",
    "races = pd.read_csv('F1-data/races.csv')\n",
    "results = pd.read_csv('F1-data/results.csv')\n",
    "status = pd.read_csv('F1-data/status.csv')"
   ]
  },
  {
   "cell_type": "code",
   "execution_count": 7,
   "id": "db04c729",
   "metadata": {},
   "outputs": [],
   "source": [
    "#Transforming \n",
    "\n",
    "#changing data type to datetime\n",
    "races['date'] = pd.to_datetime(races['date'])\n",
    "races_dim = races[['raceId','circuitId','name','year','round','date']]\n"
   ]
  },
  {
   "cell_type": "code",
   "execution_count": 8,
   "id": "fb6beb08",
   "metadata": {},
   "outputs": [],
   "source": [
    "#Transforming \"circuits\" \n",
    "\n",
    "circuits_dim = circuits[['circuitId','circuitRef','name','location','country','lat','lng','alt']]"
   ]
  },
  {
   "cell_type": "code",
   "execution_count": 9,
   "id": "de1e291b",
   "metadata": {},
   "outputs": [],
   "source": [
    "#Transforming \"constructor_results\"\n",
    "\n",
    "constructor_results_dim = constructor_results[['constructorResultsId','raceId','constructorId','points']]"
   ]
  },
  {
   "cell_type": "code",
   "execution_count": 13,
   "id": "107f6fcf",
   "metadata": {},
   "outputs": [
    {
     "name": "stdout",
     "output_type": "stream",
     "text": [
      "<class 'pandas.core.frame.DataFrame'>\n",
      "RangeIndex: 12941 entries, 0 to 12940\n",
      "Data columns (total 6 columns):\n",
      " #   Column                  Non-Null Count  Dtype  \n",
      "---  ------                  --------------  -----  \n",
      " 0   constructorStandingsId  12941 non-null  int64  \n",
      " 1   raceId                  12941 non-null  int64  \n",
      " 2   constructorId           12941 non-null  int64  \n",
      " 3   points                  12941 non-null  float64\n",
      " 4   position                12941 non-null  int64  \n",
      " 5   wins                    12941 non-null  int64  \n",
      "dtypes: float64(1), int64(5)\n",
      "memory usage: 606.7 KB\n"
     ]
    }
   ],
   "source": [
    "#Transforming \"constructor_standings\"\n",
    "\n",
    "constructor_standings_dim = constructor_standings[['constructorStandingsId','raceId','constructorId','points','position','wins']]\n",
    "constructor_standings_dim.info()"
   ]
  },
  {
   "cell_type": "code",
   "execution_count": 16,
   "id": "6ab38117",
   "metadata": {},
   "outputs": [
    {
     "data": {
      "text/html": [
       "<div>\n",
       "<style scoped>\n",
       "    .dataframe tbody tr th:only-of-type {\n",
       "        vertical-align: middle;\n",
       "    }\n",
       "\n",
       "    .dataframe tbody tr th {\n",
       "        vertical-align: top;\n",
       "    }\n",
       "\n",
       "    .dataframe thead th {\n",
       "        text-align: right;\n",
       "    }\n",
       "</style>\n",
       "<table border=\"1\" class=\"dataframe\">\n",
       "  <thead>\n",
       "    <tr style=\"text-align: right;\">\n",
       "      <th></th>\n",
       "      <th>constructorId</th>\n",
       "      <th>constructorRef</th>\n",
       "      <th>name</th>\n",
       "      <th>nationality</th>\n",
       "    </tr>\n",
       "  </thead>\n",
       "  <tbody>\n",
       "    <tr>\n",
       "      <th>0</th>\n",
       "      <td>1</td>\n",
       "      <td>mclaren</td>\n",
       "      <td>McLaren</td>\n",
       "      <td>British</td>\n",
       "    </tr>\n",
       "    <tr>\n",
       "      <th>1</th>\n",
       "      <td>2</td>\n",
       "      <td>bmw_sauber</td>\n",
       "      <td>BMW Sauber</td>\n",
       "      <td>German</td>\n",
       "    </tr>\n",
       "    <tr>\n",
       "      <th>2</th>\n",
       "      <td>3</td>\n",
       "      <td>williams</td>\n",
       "      <td>Williams</td>\n",
       "      <td>British</td>\n",
       "    </tr>\n",
       "    <tr>\n",
       "      <th>3</th>\n",
       "      <td>4</td>\n",
       "      <td>renault</td>\n",
       "      <td>Renault</td>\n",
       "      <td>French</td>\n",
       "    </tr>\n",
       "    <tr>\n",
       "      <th>4</th>\n",
       "      <td>5</td>\n",
       "      <td>toro_rosso</td>\n",
       "      <td>Toro Rosso</td>\n",
       "      <td>Italian</td>\n",
       "    </tr>\n",
       "    <tr>\n",
       "      <th>5</th>\n",
       "      <td>6</td>\n",
       "      <td>ferrari</td>\n",
       "      <td>Ferrari</td>\n",
       "      <td>Italian</td>\n",
       "    </tr>\n",
       "    <tr>\n",
       "      <th>6</th>\n",
       "      <td>7</td>\n",
       "      <td>toyota</td>\n",
       "      <td>Toyota</td>\n",
       "      <td>Japanese</td>\n",
       "    </tr>\n",
       "    <tr>\n",
       "      <th>7</th>\n",
       "      <td>8</td>\n",
       "      <td>super_aguri</td>\n",
       "      <td>Super Aguri</td>\n",
       "      <td>Japanese</td>\n",
       "    </tr>\n",
       "    <tr>\n",
       "      <th>8</th>\n",
       "      <td>9</td>\n",
       "      <td>red_bull</td>\n",
       "      <td>Red Bull</td>\n",
       "      <td>Austrian</td>\n",
       "    </tr>\n",
       "    <tr>\n",
       "      <th>9</th>\n",
       "      <td>10</td>\n",
       "      <td>force_india</td>\n",
       "      <td>Force India</td>\n",
       "      <td>Indian</td>\n",
       "    </tr>\n",
       "  </tbody>\n",
       "</table>\n",
       "</div>"
      ],
      "text/plain": [
       "   constructorId constructorRef         name nationality\n",
       "0              1        mclaren      McLaren     British\n",
       "1              2     bmw_sauber   BMW Sauber      German\n",
       "2              3       williams     Williams     British\n",
       "3              4        renault      Renault      French\n",
       "4              5     toro_rosso   Toro Rosso     Italian\n",
       "5              6        ferrari      Ferrari     Italian\n",
       "6              7         toyota       Toyota    Japanese\n",
       "7              8    super_aguri  Super Aguri    Japanese\n",
       "8              9       red_bull     Red Bull    Austrian\n",
       "9             10    force_india  Force India      Indian"
      ]
     },
     "execution_count": 16,
     "metadata": {},
     "output_type": "execute_result"
    }
   ],
   "source": [
    "#Transforming \"constructor\"\n",
    "\n",
    "constructors_dim = constructor[['constructorId','constructorRef','name','nationality']]\n",
    "constructors_dim.head(10)"
   ]
  },
  {
   "cell_type": "code",
   "execution_count": 18,
   "id": "1a055a79",
   "metadata": {},
   "outputs": [
    {
     "name": "stdout",
     "output_type": "stream",
     "text": [
      "<class 'pandas.core.frame.DataFrame'>\n",
      "RangeIndex: 33902 entries, 0 to 33901\n",
      "Data columns (total 6 columns):\n",
      " #   Column             Non-Null Count  Dtype  \n",
      "---  ------             --------------  -----  \n",
      " 0   driverStandingsId  33902 non-null  int64  \n",
      " 1   raceId             33902 non-null  int64  \n",
      " 2   driverId           33902 non-null  int64  \n",
      " 3   points             33902 non-null  float64\n",
      " 4   position           33902 non-null  int64  \n",
      " 5   wins               33902 non-null  int64  \n",
      "dtypes: float64(1), int64(5)\n",
      "memory usage: 1.6 MB\n"
     ]
    }
   ],
   "source": [
    "#Transforming \"driver_standings\"\n",
    "\n",
    "driver_standings_dim = driver_standings[['driverStandingsId','raceId','driverId','points','position','wins']]\n",
    "driver_standings_dim.info()"
   ]
  },
  {
   "cell_type": "code",
   "execution_count": 19,
   "id": "a4a640d2",
   "metadata": {},
   "outputs": [
    {
     "name": "stdout",
     "output_type": "stream",
     "text": [
      "<class 'pandas.core.frame.DataFrame'>\n",
      "RangeIndex: 857 entries, 0 to 856\n",
      "Data columns (total 8 columns):\n",
      " #   Column       Non-Null Count  Dtype \n",
      "---  ------       --------------  ----- \n",
      " 0   driverId     857 non-null    int64 \n",
      " 1   driverRef    857 non-null    object\n",
      " 2   number       857 non-null    object\n",
      " 3   code         857 non-null    object\n",
      " 4   forename     857 non-null    object\n",
      " 5   surname      857 non-null    object\n",
      " 6   dob          857 non-null    object\n",
      " 7   nationality  857 non-null    object\n",
      "dtypes: int64(1), object(7)\n",
      "memory usage: 53.7+ KB\n"
     ]
    }
   ],
   "source": [
    "#Transforming \"drivers\"\n",
    "\n",
    "drivers_dim = drivers [['driverId','driverRef','number','code','forename','surname','dob','nationality']]\n",
    "drivers_dim.info()"
   ]
  },
  {
   "cell_type": "code",
   "execution_count": 20,
   "id": "6a9215c0",
   "metadata": {},
   "outputs": [
    {
     "name": "stdout",
     "output_type": "stream",
     "text": [
      "<class 'pandas.core.frame.DataFrame'>\n",
      "RangeIndex: 538121 entries, 0 to 538120\n",
      "Data columns (total 5 columns):\n",
      " #   Column    Non-Null Count   Dtype \n",
      "---  ------    --------------   ----- \n",
      " 0   raceId    538121 non-null  int64 \n",
      " 1   driverId  538121 non-null  int64 \n",
      " 2   lap       538121 non-null  int64 \n",
      " 3   position  538121 non-null  int64 \n",
      " 4   time      538121 non-null  object\n",
      "dtypes: int64(4), object(1)\n",
      "memory usage: 20.5+ MB\n"
     ]
    }
   ],
   "source": [
    "#Transforming \"lap_times\" \n",
    "\n",
    "lap_times_dim = lap_times[['raceId','driverId','lap','position','time']]\n",
    "lap_times_dim.info()"
   ]
  },
  {
   "cell_type": "code",
   "execution_count": 21,
   "id": "d3ff2ed9",
   "metadata": {},
   "outputs": [
    {
     "name": "stdout",
     "output_type": "stream",
     "text": [
      "<class 'pandas.core.frame.DataFrame'>\n",
      "RangeIndex: 9634 entries, 0 to 9633\n",
      "Data columns (total 6 columns):\n",
      " #   Column    Non-Null Count  Dtype \n",
      "---  ------    --------------  ----- \n",
      " 0   raceId    9634 non-null   int64 \n",
      " 1   driverId  9634 non-null   int64 \n",
      " 2   stop      9634 non-null   int64 \n",
      " 3   lap       9634 non-null   int64 \n",
      " 4   time      9634 non-null   object\n",
      " 5   duration  9634 non-null   object\n",
      "dtypes: int64(4), object(2)\n",
      "memory usage: 451.7+ KB\n"
     ]
    }
   ],
   "source": [
    "#Transforming \"pit_stops\"\n",
    "\n",
    "pitstops_dim = pit_stops[['raceId','driverId','stop','lap','time','duration']]\n",
    "pitstops_dim.info()"
   ]
  },
  {
   "cell_type": "code",
   "execution_count": 22,
   "id": "ce64c25a",
   "metadata": {},
   "outputs": [
    {
     "name": "stdout",
     "output_type": "stream",
     "text": [
      "<class 'pandas.core.frame.DataFrame'>\n",
      "RangeIndex: 9575 entries, 0 to 9574\n",
      "Data columns (total 9 columns):\n",
      " #   Column         Non-Null Count  Dtype \n",
      "---  ------         --------------  ----- \n",
      " 0   qualifyId      9575 non-null   int64 \n",
      " 1   raceId         9575 non-null   int64 \n",
      " 2   driverId       9575 non-null   int64 \n",
      " 3   constructorId  9575 non-null   int64 \n",
      " 4   number         9575 non-null   int64 \n",
      " 5   position       9575 non-null   int64 \n",
      " 6   q1             9567 non-null   object\n",
      " 7   q2             9424 non-null   object\n",
      " 8   q3             9276 non-null   object\n",
      "dtypes: int64(6), object(3)\n",
      "memory usage: 673.4+ KB\n"
     ]
    }
   ],
   "source": [
    "#Transforming \"qualifying\"\n",
    "\n",
    "qualifying_dim = qualifying[['qualifyId','raceId','driverId','constructorId','number','position','q1','q2','q3']]\n",
    "qualifying_dim.info()"
   ]
  },
  {
   "cell_type": "code",
   "execution_count": 23,
   "id": "98c65b6d",
   "metadata": {},
   "outputs": [
    {
     "name": "stdout",
     "output_type": "stream",
     "text": [
      "<class 'pandas.core.frame.DataFrame'>\n",
      "RangeIndex: 1102 entries, 0 to 1101\n",
      "Data columns (total 6 columns):\n",
      " #   Column     Non-Null Count  Dtype         \n",
      "---  ------     --------------  -----         \n",
      " 0   raceId     1102 non-null   int64         \n",
      " 1   circuitId  1102 non-null   int64         \n",
      " 2   year       1102 non-null   int64         \n",
      " 3   round      1102 non-null   int64         \n",
      " 4   name       1102 non-null   object        \n",
      " 5   date       1102 non-null   datetime64[ns]\n",
      "dtypes: datetime64[ns](1), int64(4), object(1)\n",
      "memory usage: 51.8+ KB\n"
     ]
    }
   ],
   "source": [
    "#Transforming \"races\"\n",
    "\n",
    "races_dim = races[['raceId','circuitId','year','round','name','date']]\n",
    "races_dim.info()"
   ]
  },
  {
   "cell_type": "code",
   "execution_count": 20,
   "id": "0df435e4",
   "metadata": {},
   "outputs": [],
   "source": [
    "#Transforming \"results\"\n",
    "\n",
    "results_dim = results[['resultId','raceId','driverId','constructorId','statusId','grid','positionOrder','points','laps','fastestLap','rank','fastestLapTime','fastestLapSpeed']]"
   ]
  },
  {
   "cell_type": "code",
   "execution_count": 25,
   "id": "790bd01c",
   "metadata": {},
   "outputs": [
    {
     "name": "stdout",
     "output_type": "stream",
     "text": [
      "<class 'pandas.core.frame.DataFrame'>\n",
      "RangeIndex: 139 entries, 0 to 138\n",
      "Data columns (total 2 columns):\n",
      " #   Column    Non-Null Count  Dtype \n",
      "---  ------    --------------  ----- \n",
      " 0   statusId  139 non-null    int64 \n",
      " 1   status    139 non-null    object\n",
      "dtypes: int64(1), object(1)\n",
      "memory usage: 2.3+ KB\n"
     ]
    }
   ],
   "source": [
    "#Transforming \"status\"\n",
    "\n",
    "status_dim = status[['statusId','status']]\n",
    "status_dim.info()"
   ]
  },
  {
   "cell_type": "code",
   "execution_count": 29,
   "id": "08469734",
   "metadata": {},
   "outputs": [],
   "source": [
    "#Exporting csv files\n",
    "\n",
    "status_dim.to_csv('status_dim.csv',index=False)\n",
    "results_dim.to_csv('resutls_dim.csv',index=False)\n",
    "races_dim.to_csv('races_dim.csv',index=False)\n",
    "qualifying_dim.to_csv('qualifying_dim.csv',index=False)\n",
    "pitstops_dim.to_csv('pitstops_dim.csv',index=False)\n",
    "lap_times_dim.to_csv('lap_times_dim.csv',index=False)\n",
    "drivers_dim.to_csv('drivers_dim.csv',index=False)\n",
    "driver_standings_dim.to_csv('driver_standings_dim.csv',index=False)\n",
    "constructors_dim.to_csv('constructors_dim.csv',index=False)\n",
    "constructor_standings_dim.to_csv('constructor_standings_dim.csv',index=False)\n",
    "constructor_results_dim.to_csv('constructor_results_dim.csv',index=False)\n",
    "circuits_dim.to_csv('circuits_dim.csv',index=False)"
   ]
  },
  {
   "cell_type": "code",
   "execution_count": null,
   "id": "17b83c5c",
   "metadata": {},
   "outputs": [],
   "source": []
  }
 ],
 "metadata": {
  "kernelspec": {
   "display_name": "Python 3 (ipykernel)",
   "language": "python",
   "name": "python3"
  },
  "language_info": {
   "codemirror_mode": {
    "name": "ipython",
    "version": 3
   },
   "file_extension": ".py",
   "mimetype": "text/x-python",
   "name": "python",
   "nbconvert_exporter": "python",
   "pygments_lexer": "ipython3",
   "version": "3.9.12"
  }
 },
 "nbformat": 4,
 "nbformat_minor": 5
}
