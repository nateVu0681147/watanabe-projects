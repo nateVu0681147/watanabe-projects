{
 "cells": [
  {
   "cell_type": "code",
   "execution_count": null,
   "id": "4aa9354a",
   "metadata": {},
   "outputs": [],
   "source": [
    "#Create new table to find career points of each driver based on driverId\n",
    "CREATE OR REPLACE TABLE `hardy-answer-335705.F1_project.bestdriver_dim` AS (\n",
    "SELECT d.driverId, SUM(r.points) AS AccumulatePts\n",
    "FROM `hardy-answer-335705.F1_project.results_dim` r \n",
    "JOIN `hardy-answer-335705.F1_project.drivers_dim` d on d.driverId = r.driverId\n",
    "GROUP BY d.driverId);\n",
    "\n",
    "#Query driver info with their career points\n",
    "SELECT d.forename, d.surname, d.dob, d.nationality, b.AccumulatePts\n",
    "FROM `hardy-answer-335705.F1_project.drivers_dim` d\n",
    "JOIN `hardy-answer-335705.F1_project.bestdriver_dim` b on d.driverId = b.driverId;\n",
    "\n",
    "#Finding circuits with most collisions\n",
    "SELECT c.name, COUNT(\n",
    "  status) AS Collisions\n",
    "FROM `hardy-answer-335705.F1_project.status_dim` s\n",
    "JOIN `hardy-answer-335705.F1_project.results_dim` r on r.statusId = s.statusId\n",
    "JOIN `hardy-answer-335705.F1_project.races_dim` ra on ra.raceId = r.raceId\n",
    "JOIN `hardy-answer-335705.F1_project.circuits_dim` c on c.circuitId = ra.circuitId\n",
    "#setting condition to collision only (4 = Collision)\n",
    "WHERE r.statusId = 4\n",
    "GROUP BY c.name"
   ]
  }
 ],
 "metadata": {
  "kernelspec": {
   "display_name": "Python 3 (ipykernel)",
   "language": "python",
   "name": "python3"
  },
  "language_info": {
   "codemirror_mode": {
    "name": "ipython",
    "version": 3
   },
   "file_extension": ".py",
   "mimetype": "text/x-python",
   "name": "python",
   "nbconvert_exporter": "python",
   "pygments_lexer": "ipython3",
   "version": "3.9.12"
  }
 },
 "nbformat": 4,
 "nbformat_minor": 5
}
